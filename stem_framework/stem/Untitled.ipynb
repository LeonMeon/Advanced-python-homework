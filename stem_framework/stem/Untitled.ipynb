{
 "cells": [
  {
   "cell_type": "code",
   "execution_count": 6,
   "id": "a9ed0ff7",
   "metadata": {},
   "outputs": [],
   "source": [
    "from typing import Optional, Any, Union\n",
    "from dataclasses import dataclass"
   ]
  },
  {
   "cell_type": "code",
   "execution_count": 20,
   "id": "f34c51d4",
   "metadata": {},
   "outputs": [],
   "source": [
    "def update_meta(meta: dict, **kwargs):\n",
    "    meta.update(**kwargs) \n",
    "    print(meta)"
   ]
  },
  {
   "cell_type": "code",
   "execution_count": 23,
   "id": "b6def9e3",
   "metadata": {},
   "outputs": [
    {
     "name": "stdout",
     "output_type": "stream",
     "text": [
      "{1: 2, 'a': 1, 'b': 2}\n"
     ]
    }
   ],
   "source": [
    "update_meta( meta = {1:2},a = 1, b = 2)"
   ]
  },
  {
   "cell_type": "code",
   "execution_count": 24,
   "id": "07ef1ae0",
   "metadata": {},
   "outputs": [
    {
     "name": "stdout",
     "output_type": "stream",
     "text": [
      "camel_case_name\n"
     ]
    }
   ],
   "source": [
    "import re\n",
    "\n",
    "name = 'CamelCaseName'\n",
    "name = re.sub(r'(?<!^)(?=[A-Z])', '_', name).lower()\n",
    "print(name)  # camel_case_name"
   ]
  },
  {
   "cell_type": "code",
   "execution_count": 25,
   "id": "fce190b0",
   "metadata": {},
   "outputs": [],
   "source": [
    "from typing import Optional , Protocol\n",
    "from dataclasses import dataclass\n",
    "\n",
    "# hw2 6 part 1\n",
    "def pascal_case_to_snake_case(name: str) -> str: \n",
    "    return re.sub(r'(?<!^)(?=[A-Z])', '_', name).lower()\n",
    "\n",
    "#hw2 6 part 2\n",
    "class Named:\n",
    "    _name: Optional[str] = None\n",
    "\n",
    "    @property\n",
    "    def name(self):\n",
    "        if (self._name is not None):\n",
    "            return self._name\n",
    "        else:\n",
    "            return pascal_case_to_snake_case(self.__class__.__name__)\n",
    "#hw2 1\n",
    "#a protocol  as a type annotation for a dataclass object.\n",
    "@dataclass(eq=True, frozen=True)\n",
    "class Dataclass(Protocol):\n",
    "    __dataclass_fields__: Any"
   ]
  },
  {
   "cell_type": "code",
   "execution_count": 28,
   "id": "cc404933",
   "metadata": {},
   "outputs": [
    {
     "data": {
      "text/plain": [
       "typing._ProtocolMeta"
      ]
     },
     "execution_count": 28,
     "metadata": {},
     "output_type": "execute_result"
    }
   ],
   "source": [
    "type(Dataclass)"
   ]
  },
  {
   "cell_type": "code",
   "execution_count": null,
   "id": "f3a6caad",
   "metadata": {},
   "outputs": [],
   "source": []
  }
 ],
 "metadata": {
  "kernelspec": {
   "display_name": "Python 3 (ipykernel)",
   "language": "python",
   "name": "python3"
  },
  "language_info": {
   "codemirror_mode": {
    "name": "ipython",
    "version": 3
   },
   "file_extension": ".py",
   "mimetype": "text/x-python",
   "name": "python",
   "nbconvert_exporter": "python",
   "pygments_lexer": "ipython3",
   "version": "3.9.12"
  }
 },
 "nbformat": 4,
 "nbformat_minor": 5
}
