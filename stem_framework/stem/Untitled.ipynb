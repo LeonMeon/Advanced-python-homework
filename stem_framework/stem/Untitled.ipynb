{
 "cells": [
  {
   "cell_type": "code",
   "execution_count": 6,
   "id": "41dc8f91",
   "metadata": {},
   "outputs": [],
   "source": [
    "from typing import Optional, Any, Union\n",
    "from dataclasses import dataclass"
   ]
  },
  {
   "cell_type": "code",
   "execution_count": 20,
   "id": "742f53e9",
   "metadata": {},
   "outputs": [],
   "source": [
    "def update_meta(meta: dict, **kwargs):\n",
    "    meta.update(**kwargs) \n",
    "    print(meta)"
   ]
  },
  {
   "cell_type": "code",
   "execution_count": 23,
   "id": "ab5c9bdf",
   "metadata": {},
   "outputs": [
    {
     "name": "stdout",
     "output_type": "stream",
     "text": [
      "{1: 2, 'a': 1, 'b': 2}\n"
     ]
    }
   ],
   "source": [
    "update_meta( meta = {1:2},a = 1, b = 2)"
   ]
  },
  {
   "cell_type": "code",
   "execution_count": 24,
   "id": "a81f8d5b",
   "metadata": {},
   "outputs": [
    {
     "name": "stdout",
     "output_type": "stream",
     "text": [
      "camel_case_name\n"
     ]
    }
   ],
   "source": [
    "import re\n",
    "\n",
    "name = 'CamelCaseName'\n",
    "name = re.sub(r'(?<!^)(?=[A-Z])', '_', name).lower()\n",
    "print(name)  # camel_case_name"
   ]
  },
  {
   "cell_type": "code",
   "execution_count": null,
   "id": "4add0aef",
   "metadata": {},
   "outputs": [],
   "source": []
  }
 ],
 "metadata": {
  "kernelspec": {
   "display_name": "Python 3 (ipykernel)",
   "language": "python",
   "name": "python3"
  },
  "language_info": {
   "codemirror_mode": {
    "name": "ipython",
    "version": 3
   },
   "file_extension": ".py",
   "mimetype": "text/x-python",
   "name": "python",
   "nbconvert_exporter": "python",
   "pygments_lexer": "ipython3",
   "version": "3.9.12"
  }
 },
 "nbformat": 4,
 "nbformat_minor": 5
}
